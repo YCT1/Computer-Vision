{
 "cells": [
  {
   "cell_type": "code",
   "execution_count": 1,
   "metadata": {},
   "outputs": [],
   "source": [
    "import numpy as np\n",
    "import os\n",
    "import cv2\n",
    "import moviepy.editor as mpy\n",
    "import matplotlib.pyplot as plt\n",
    "import matplotlib.image as mpimg"
   ]
  },
  {
   "cell_type": "code",
   "execution_count": 10,
   "metadata": {},
   "outputs": [
    {
     "data": {
      "text/plain": [
       "array([[ 4.15905085e+00,  0.00000000e+00, -1.06148876e+03],\n",
       "       [ 0.00000000e+00,  4.15905085e+00, -5.38984711e+02],\n",
       "       [-0.00000000e+00, -0.00000000e+00,  1.00000000e+00]])"
      ]
     },
     "execution_count": 10,
     "metadata": {},
     "output_type": "execute_result"
    }
   ],
   "source": [
    "# Theoreical test\n",
    "pts2 = np.float32([[0, 0], [256, 0], [0, 256], [256, 256]])\n",
    "pts_m = np.float32([[255.2238, 129.5932], [316.7763, 129.5932], [255.2238 ,191.1457], [316.7763, 191.1457]])\n",
    "\n",
    "matrix = cv2.getPerspectiveTransform(pts_m.astype(np.float32), pts2.astype(np.float32))\n",
    "test = matrix @ np.array([[316.7763,129.5932,1]]).T\n",
    "matrix"
   ]
  },
  {
   "cell_type": "markdown",
   "metadata": {},
   "source": [
    "$$\n",
    "\\begin{array}{c}\n",
    "{\\left[\\begin{array}{c}\n",
    "t_{i} x_{i}^{\\prime} \\\\\n",
    "t_{i} y_{i}^{\\prime} \\\\\n",
    "t_{i}\n",
    "\\end{array}\\right]=\\operatorname{map}_{-} \\operatorname{matrix} \\cdot\\left[\\begin{array}{c}\n",
    "x_{i} \\\\\n",
    "y_{i} \\\\\n",
    "1\n",
    "\\end{array}\\right]} \\\\\n",
    "\\operatorname{dst}(i)=\\left(x_{i}^{\\prime}, y_{i}^{\\prime}\\right), \\operatorname{src}(i)=\\left(x_{i}, y_{i}\\right), i=0,1,2,3\n",
    "\\end{array}\n",
    "$$"
   ]
  },
  {
   "cell_type": "code",
   "execution_count": 14,
   "metadata": {},
   "outputs": [],
   "source": [
    "p1 = np.array([[256, 0,1]])\n",
    "p2 = np.array([[316.7763,129.5932,1]])"
   ]
  },
  {
   "cell_type": "code",
   "execution_count": 29,
   "metadata": {},
   "outputs": [
    {
     "data": {
      "text/plain": [
       "array([[0],\n",
       "       [1],\n",
       "       [2],\n",
       "       [3],\n",
       "       [4],\n",
       "       [5],\n",
       "       [6],\n",
       "       [7]])"
      ]
     },
     "execution_count": 29,
     "metadata": {},
     "output_type": "execute_result"
    }
   ],
   "source": [
    "\"\"\"\n",
    "/* Calculates coefficients of perspective transformation\n",
    " * which maps (xi,yi) to (ui,vi), (i=1,2,3,4):\n",
    " *\n",
    " *      c00*xi + c01*yi + c02\n",
    " * ui = ---------------------\n",
    " *      c20*xi + c21*yi + c22\n",
    " *\n",
    " *      c10*xi + c11*yi + c12\n",
    " * vi = ---------------------\n",
    " *      c20*xi + c21*yi + c22\n",
    " *\n",
    " * Coefficients are calculated by solving linear system:\n",
    " * / x0 y0  1  0  0  0 -x0*u0 -y0*u0 \\ /c00\\ /u0\\\n",
    " * | x1 y1  1  0  0  0 -x1*u1 -y1*u1 | |c01| |u1|\n",
    " * | x2 y2  1  0  0  0 -x2*u2 -y2*u2 | |c02| |u2|\n",
    " * | x3 y3  1  0  0  0 -x3*u3 -y3*u3 |.|c10|=|u3|,\n",
    " * |  0  0  0 x0 y0  1 -x0*v0 -y0*v0 | |c11| |v0|\n",
    " * |  0  0  0 x1 y1  1 -x1*v1 -y1*v1 | |c12| |v1|\n",
    " * |  0  0  0 x2 y2  1 -x2*v2 -y2*v2 | |c20| |v2|\n",
    " * \\  0  0  0 x3 y3  1 -x3*v3 -y3*v3 / \\c21/ \\v3/\n",
    " *\n",
    " * where:\n",
    " *   cij - matrix coefficients, c22 = 1\n",
    " */\n",
    "\n",
    "c00*xi + c01*yi + c02 - c20*xi*ui - c21*yi*ui = ui\n",
    "c10*xi + c11*yi + c12 - c20*xi*vi - c21*yi*vi = vi\n",
    "\"\"\"\n",
    "x = np.array([[0,1,2,3],[4,5,6,7]])\n",
    "b= np.array([x.flatten()])\n"
   ]
  },
  {
   "cell_type": "code",
   "execution_count": 44,
   "metadata": {},
   "outputs": [
    {
     "data": {
      "text/plain": [
       "array([[ 4.15905085e+00,  5.34731916e-12, -1.06148876e+03],\n",
       "       [ 7.51137373e-13,  4.15905085e+00, -5.38984711e+02],\n",
       "       [ 4.23827640e-14,  1.06579750e-14,  1.00000000e+00]])"
      ]
     },
     "execution_count": 44,
     "metadata": {},
     "output_type": "execute_result"
    }
   ],
   "source": [
    "def findPerspectiveMatrix(x = np.zeros([4,2]), u = np.zeros([4,2])):\n",
    "    c = np.zeros([3,3])\n",
    "    c[2][2] = 1\n",
    "    x = x.T\n",
    "    u = u.T\n",
    "\n",
    "    # Holy Matrix\n",
    "\n",
    "    A = np.array([\n",
    "        [x[0][0], x[1][0], 1, 0, 0, 0, -x[0][0]*u[0][0], -x[1][0]*u[0][0]],\n",
    "        [x[0][1], x[1][1], 1, 0, 0, 0, -x[0][1]*u[0][1], -x[1][1]*u[0][1]],\n",
    "        [x[0][2], x[1][2], 1, 0, 0, 0, -x[0][2]*u[0][2], -x[1][2]*u[0][2]],\n",
    "        [x[0][3], x[1][3], 1, 0, 0, 0, -x[0][3]*u[0][3], -x[1][3]*u[0][3]],\n",
    "        [0, 0, 0, x[0][0], x[1][0], 1, -x[0][0]*u[1][0], -x[1][0]*u[1][0]],\n",
    "        [0, 0, 0, x[0][1], x[1][1], 1, -x[0][1]*u[1][1], -x[1][1]*u[1][1]],\n",
    "        [0, 0, 0, x[0][2], x[1][2], 1, -x[0][2]*u[1][2], -x[1][2]*u[1][2]],\n",
    "        [0, 0, 0, x[0][3], x[1][3], 1, -x[0][3]*u[1][3], -x[1][3]*u[1][3]],\n",
    "    ])\n",
    "    \n",
    "    b= np.array([u.flatten()])\n",
    "    return np.append(np.linalg.pinv(A) @ b.T,1).reshape(3,3)\n",
    "\n",
    "findPerspectiveMatrix(pts_m,pts2)\n"
   ]
  },
  {
   "cell_type": "code",
   "execution_count": 35,
   "metadata": {},
   "outputs": [
    {
     "data": {
      "text/plain": [
       "array([[ 4.15905085e+00,  0.00000000e+00, -1.06148876e+03],\n",
       "       [ 0.00000000e+00,  4.15905085e+00, -5.38984711e+02],\n",
       "       [-0.00000000e+00, -0.00000000e+00,  1.00000000e+00]])"
      ]
     },
     "execution_count": 35,
     "metadata": {},
     "output_type": "execute_result"
    }
   ],
   "source": [
    "matrix"
   ]
  },
  {
   "cell_type": "code",
   "execution_count": 103,
   "metadata": {},
   "outputs": [],
   "source": [
    "# This function reads the planes file and returns result as matrix\n",
    "def readFile(address):\n",
    "    f = open(address, \"r\")\n",
    "    s = f.read()\n",
    "    s = s.split(\"\\n\")\n",
    "    s = s[:-1]\n",
    "    s_array = []\n",
    "    for x in s:\n",
    "        splited = x.split(\")(\")\n",
    "        for i in range(0,len(splited)):\n",
    "            splited[i] = splited[i].replace(\"(\",\"\")\n",
    "            splited[i] = splited[i].replace(\")\",\"\")\n",
    "            splited[i] = np.array(splited[i].split(\" \")).astype(np.float64)\n",
    "        s_array.append(np.array(splited).astype(np.float64))\n",
    "\n",
    "    return np.array(s_array).astype(np.float64)\n",
    "\n",
    "# This function reads the planes by their adress\n",
    "def readAllPlanes(number_of_planes, plane_name = \"Plane_\", file_format=\".txt\"):\n",
    "    planes = []\n",
    "    for i in range(1,number_of_planes+1):\n",
    "        planes.append(readFile(plane_name + str(i) + file_format))\n",
    "    return np.array(planes).astype(np.float64)\n",
    "\n",
    "planes = readAllPlanes(9)"
   ]
  },
  {
   "cell_type": "code",
   "execution_count": 104,
   "metadata": {},
   "outputs": [],
   "source": [
    "i=2\n",
    "np.mean(planes[0][0].T[:3].T)\n",
    "depthPlaneMatrix = np.zeros([9])\n",
    "for k in range(0,planes.shape[0]):\n",
    "    depthPlaneMatrix[k] = np.mean(planes[k][i].T[:3].T)\n",
    "\n",
    "depthPlaneMatrix = depthPlaneMatrix.tolist()"
   ]
  },
  {
   "cell_type": "code",
   "execution_count": 118,
   "metadata": {},
   "outputs": [
    {
     "data": {
      "text/plain": [
       "['fds2', 'kahmet', 'dfds', 'alım', 'dokuz', 'mesut', 'ahmet', 'yedi', 'sekiz']"
      ]
     },
     "execution_count": 118,
     "metadata": {},
     "output_type": "execute_result"
    }
   ],
   "source": [
    "planes = [\"ahmet\",\"dfds\",\"fds2\",\"kahmet\",\"alım\",\"mesut\",\"yedi\",\"sekiz\",\"dokuz\"]\n",
    "for i in range(0,len(planes)):\n",
    "    planes[i] = [planes[i],depthPlaneMatrix[i]]\n",
    "\n",
    "\n",
    "def sortPlane(plane):\n",
    "    return plane[1]\n",
    "\n",
    "planes.sort(key=sortPlane)\n",
    "for i in range(0, len(planes)):\n",
    "    planes[i] = planes[i][0]\n",
    "\n",
    "planes"
   ]
  }
 ],
 "metadata": {
  "interpreter": {
   "hash": "41388d25b359402e3914bc72d50bf2d95f5da4ca628d8fc9100a2b9d5525202f"
  },
  "kernelspec": {
   "display_name": "Python 3.9.2 64-bit",
   "language": "python",
   "name": "python3"
  },
  "language_info": {
   "codemirror_mode": {
    "name": "ipython",
    "version": 3
   },
   "file_extension": ".py",
   "mimetype": "text/x-python",
   "name": "python",
   "nbconvert_exporter": "python",
   "pygments_lexer": "ipython3",
   "version": "3.9.2"
  },
  "orig_nbformat": 4
 },
 "nbformat": 4,
 "nbformat_minor": 2
}
