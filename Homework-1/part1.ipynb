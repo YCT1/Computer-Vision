{
 "cells": [
  {
   "cell_type": "code",
   "execution_count": 24,
   "metadata": {},
   "outputs": [],
   "source": [
    "import numpy as np\n",
    "import os\n",
    "import cv2\n",
    "import moviepy.editor as mpy\n"
   ]
  },
  {
   "cell_type": "code",
   "execution_count": 2,
   "metadata": {},
   "outputs": [
    {
     "name": "stdout",
     "output_type": "stream",
     "text": [
      "(360, 926, 3)\n"
     ]
    }
   ],
   "source": [
    "background = cv2.imread(\"Malibu.jpg\")\n",
    "#cv2.imshow(\"Background Image Window\", background)\n",
    "#cv2.waitKey(0)\n",
    "\n",
    "background_height = background.shape[0]\n",
    "background_width = background.shape[1]\n",
    "\n",
    "ratio = 360/background_height\n",
    "\n",
    "background = cv2.resize(background,(int(background_width*ratio),360))\n",
    "\n",
    "print(background.shape)\n",
    "\n",
    "\n",
    "images_list = []\n"
   ]
  },
  {
   "cell_type": "code",
   "execution_count": 23,
   "metadata": {},
   "outputs": [
    {
     "ename": "TypeError",
     "evalue": "'module' object is not callable",
     "output_type": "error",
     "traceback": [
      "\u001b[1;31m---------------------------------------------------------------------------\u001b[0m",
      "\u001b[1;31mTypeError\u001b[0m                                 Traceback (most recent call last)",
      "\u001b[1;32m<ipython-input-23-de655d63670f>\u001b[0m in \u001b[0;36m<module>\u001b[1;34m\u001b[0m\n\u001b[0;32m      6\u001b[0m \u001b[0mnew_frame\u001b[0m\u001b[1;33m[\u001b[0m\u001b[0mnonzero_x\u001b[0m\u001b[1;33m,\u001b[0m\u001b[0mnonzero_y\u001b[0m\u001b[1;33m,\u001b[0m\u001b[1;33m:\u001b[0m\u001b[1;33m]\u001b[0m \u001b[1;33m=\u001b[0m \u001b[0mnonzero_cat_values\u001b[0m\u001b[1;33m\u001b[0m\u001b[1;33m\u001b[0m\u001b[0m\n\u001b[0;32m      7\u001b[0m \u001b[0mnew_frame\u001b[0m \u001b[1;33m=\u001b[0m \u001b[0mnew_frame\u001b[0m\u001b[1;33m[\u001b[0m\u001b[1;33m:\u001b[0m\u001b[1;33m,\u001b[0m\u001b[1;33m:\u001b[0m\u001b[1;33m,\u001b[0m\u001b[1;33m[\u001b[0m\u001b[1;36m2\u001b[0m\u001b[1;33m,\u001b[0m\u001b[1;36m1\u001b[0m\u001b[1;33m,\u001b[0m\u001b[1;36m0\u001b[0m\u001b[1;33m]\u001b[0m\u001b[1;33m]\u001b[0m\u001b[1;33m\u001b[0m\u001b[1;33m\u001b[0m\u001b[0m\n\u001b[1;32m----> 8\u001b[1;33m \u001b[0mplt\u001b[0m\u001b[1;33m.\u001b[0m\u001b[0mimage\u001b[0m\u001b[1;33m(\u001b[0m\u001b[0mimage\u001b[0m\u001b[1;33m)\u001b[0m\u001b[1;33m\u001b[0m\u001b[1;33m\u001b[0m\u001b[0m\n\u001b[0m",
      "\u001b[1;31mTypeError\u001b[0m: 'module' object is not callable"
     ]
    }
   ],
   "source": [
    "\n",
    "image = cv2.imread(\"cat/cat_\"+str(\"5\")+\".png\")\n",
    "foreground = np.logical_or(image[:,:,1]<180,image[:,:,0]>150)\n",
    "nonzero_x, nonzero_y = np.nonzero(foreground)\n",
    "nonzero_cat_values = image[nonzero_x,nonzero_y,:]\n",
    "new_frame = background.copy()\n",
    "new_frame[nonzero_x,nonzero_y,:] = nonzero_cat_values\n",
    "new_frame = new_frame[:,:,[2,1,0]]\n",
    "\n"
   ]
  }
 ],
 "metadata": {
  "interpreter": {
   "hash": "41388d25b359402e3914bc72d50bf2d95f5da4ca628d8fc9100a2b9d5525202f"
  },
  "kernelspec": {
   "display_name": "Python 3.9.2 64-bit",
   "name": "python3"
  },
  "language_info": {
   "codemirror_mode": {
    "name": "ipython",
    "version": 3
   },
   "file_extension": ".py",
   "mimetype": "text/x-python",
   "name": "python",
   "nbconvert_exporter": "python",
   "pygments_lexer": "ipython3",
   "version": "3.9.2"
  },
  "orig_nbformat": 4
 },
 "nbformat": 4,
 "nbformat_minor": 2
}
