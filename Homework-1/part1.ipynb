{
 "cells": [
  {
   "cell_type": "code",
   "execution_count": 1,
   "metadata": {},
   "outputs": [],
   "source": [
    "import numpy as np\n",
    "import os\n",
    "import cv2\n",
    "import moviepy.editor as mpy\n",
    "import matplotlib.pyplot as plt\n",
    "import matplotlib.image as mpimg\n"
   ]
  },
  {
   "cell_type": "code",
   "execution_count": 2,
   "metadata": {},
   "outputs": [
    {
     "name": "stdout",
     "output_type": "stream",
     "text": [
      "(360, 926, 3)\n"
     ]
    }
   ],
   "source": [
    "background = cv2.imread(\"Malibu.jpg\")\n",
    "#cv2.imshow(\"Background Image Window\", background)\n",
    "#cv2.waitKey(0)\n",
    "\n",
    "background_height = background.shape[0]\n",
    "background_width = background.shape[1]\n",
    "\n",
    "ratio = 360/background_height\n",
    "\n",
    "background = cv2.resize(background,(int(background_width*ratio),360))\n",
    "\n",
    "print(background.shape)\n",
    "\n",
    "\n",
    "images_list = []\n"
   ]
  },
  {
   "cell_type": "code",
   "execution_count": 23,
   "metadata": {},
   "outputs": [
    {
     "ename": "TypeError",
     "evalue": "'module' object is not callable",
     "output_type": "error",
     "traceback": [
      "\u001b[1;31m---------------------------------------------------------------------------\u001b[0m",
      "\u001b[1;31mTypeError\u001b[0m                                 Traceback (most recent call last)",
      "\u001b[1;32m<ipython-input-23-de655d63670f>\u001b[0m in \u001b[0;36m<module>\u001b[1;34m\u001b[0m\n\u001b[0;32m      6\u001b[0m \u001b[0mnew_frame\u001b[0m\u001b[1;33m[\u001b[0m\u001b[0mnonzero_x\u001b[0m\u001b[1;33m,\u001b[0m\u001b[0mnonzero_y\u001b[0m\u001b[1;33m,\u001b[0m\u001b[1;33m:\u001b[0m\u001b[1;33m]\u001b[0m \u001b[1;33m=\u001b[0m \u001b[0mnonzero_cat_values\u001b[0m\u001b[1;33m\u001b[0m\u001b[1;33m\u001b[0m\u001b[0m\n\u001b[0;32m      7\u001b[0m \u001b[0mnew_frame\u001b[0m \u001b[1;33m=\u001b[0m \u001b[0mnew_frame\u001b[0m\u001b[1;33m[\u001b[0m\u001b[1;33m:\u001b[0m\u001b[1;33m,\u001b[0m\u001b[1;33m:\u001b[0m\u001b[1;33m,\u001b[0m\u001b[1;33m[\u001b[0m\u001b[1;36m2\u001b[0m\u001b[1;33m,\u001b[0m\u001b[1;36m1\u001b[0m\u001b[1;33m,\u001b[0m\u001b[1;36m0\u001b[0m\u001b[1;33m]\u001b[0m\u001b[1;33m]\u001b[0m\u001b[1;33m\u001b[0m\u001b[1;33m\u001b[0m\u001b[0m\n\u001b[1;32m----> 8\u001b[1;33m \u001b[0mplt\u001b[0m\u001b[1;33m.\u001b[0m\u001b[0mimage\u001b[0m\u001b[1;33m(\u001b[0m\u001b[0mimage\u001b[0m\u001b[1;33m)\u001b[0m\u001b[1;33m\u001b[0m\u001b[1;33m\u001b[0m\u001b[0m\n\u001b[0m",
      "\u001b[1;31mTypeError\u001b[0m: 'module' object is not callable"
     ]
    }
   ],
   "source": [
    "\n",
    "image = cv2.imread(\"cat/cat_\"+str(\"5\")+\".png\")\n",
    "foreground = np.logical_or(image[:,:,1]<180,image[:,:,0]>150)\n",
    "nonzero_x, nonzero_y = np.nonzero(foreground)\n",
    "nonzero_cat_values = image[nonzero_x,nonzero_y,:]\n",
    "new_frame = background.copy()\n",
    "new_frame[nonzero_x,nonzero_y,:] = nonzero_cat_values\n",
    "new_frame = new_frame[:,:,[2,1,0]]\n",
    "\n"
   ]
  },
  {
   "cell_type": "code",
   "execution_count": 8,
   "metadata": {},
   "outputs": [
    {
     "data": {
      "text/plain": [
       "8"
      ]
     },
     "execution_count": 8,
     "metadata": {},
     "output_type": "execute_result"
    }
   ],
   "source": [
    "A = np.array([2,3,5,8])\n",
    "A[len(A)-1]\n"
   ]
  },
  {
   "cell_type": "code",
   "execution_count": 19,
   "metadata": {},
   "outputs": [
    {
     "data": {
      "text/plain": [
       "(1888, 3)"
      ]
     },
     "execution_count": 19,
     "metadata": {},
     "output_type": "execute_result"
    }
   ],
   "source": [
    "f = open(\"Plane_1.txt\", \"r\")\n",
    "s = f.read()\n",
    "s = s.replace(\")\\n(\",\")(\")\n",
    "s = s.split(\")(\")\n",
    "s[0] = s[0].replace(\"(\",\"\")\n",
    "s[-1] = s[-1].replace(\")\",\"\")\n",
    "list_data = []\n",
    "for i in s:\n",
    "    list_data.append(i.split(\" \"))\n",
    "\n",
    "list_array = np.array(list_data).astype(np.float64)\n"
   ]
  },
  {
   "cell_type": "code",
   "execution_count": 165,
   "metadata": {},
   "outputs": [
    {
     "data": {
      "text/plain": [
       "array([[316.7763, 129.5932],\n",
       "       [255.2238, 129.5932],\n",
       "       [316.7763, 191.1457],\n",
       "       [255.2238, 191.1457]], dtype=float32)"
      ]
     },
     "execution_count": 165,
     "metadata": {},
     "output_type": "execute_result"
    }
   ],
   "source": [
    "f = open(\"Plane_1.txt\", \"r\")\n",
    "s = f.read()\n",
    "s = s.split(\"\\n\")\n",
    "s = s[:-1]\n",
    "s_array = []\n",
    "for x in s:\n",
    "    splited = x.split(\")(\")\n",
    "    for i in range(0,len(splited)):\n",
    "        splited[i] = splited[i].replace(\"(\",\"\")\n",
    "        splited[i] = splited[i].replace(\")\",\"\")\n",
    "        splited[i] = np.array(splited[i].split(\" \")).astype(np.float32)\n",
    "        #print(splited[i].split(\" \"))\n",
    "        #splited[i] = splited[i].split(\" \")\n",
    "    s_array.append(np.array(splited).astype(np.float32))\n",
    "\n",
    "s_array = np.array(s_array).astype(np.float32)\n",
    "s_array[0].T[0:2].T\n"
   ]
  },
  {
   "cell_type": "code",
   "execution_count": 166,
   "metadata": {},
   "outputs": [],
   "source": [
    "pts1 = s_array[0].T[0:2].T\n",
    "pts1temp = pts1.copy()\n",
    "\n",
    "\n",
    "pts1[0] = pts1temp[1]\n",
    "pts1[3] = pts1temp[2]\n",
    "pts1[1] = pts1temp[0]\n",
    "pts1[2] = pts1temp[3]\n"
   ]
  },
  {
   "cell_type": "code",
   "execution_count": 178,
   "metadata": {},
   "outputs": [
    {
     "name": "stdout",
     "output_type": "stream",
     "text": [
      "[[255.2238 129.5932]\n",
      " [316.7763 129.5932]\n",
      " [255.2238 191.1457]\n",
      " [316.7763 191.1457]]\n",
      "[[255.2238 129.5932]\n",
      " [316.7763 129.5932]\n",
      " [255.2238 191.1457]\n",
      " [316.7763 191.1457]]\n"
     ]
    },
    {
     "data": {
      "text/plain": [
       "<matplotlib.image.AxesImage at 0x1a4b08df310>"
      ]
     },
     "execution_count": 178,
     "metadata": {},
     "output_type": "execute_result"
    },
    {
     "data": {
      "image/png": "[encoded data removed]",
      "text/plain": [
       "<Figure size 432x288 with 1 Axes>"
      ]
     },
     "metadata": {
      "needs_background": "light"
     },
     "output_type": "display_data"
    }
   ],
   "source": [
    "pts2 = np.float32([[0, 0], [256, 0], [0, 256], [256, 256]])\n",
    "pts_m = np.float32([[255.2238, 129.5932], [316.7763, 129.5932], [255.2238 ,191.1457], [316.7763, 191.1457]])\n",
    "\n",
    "matrix = cv2.getPerspectiveTransform(pts1.astype(np.float32), pts2.astype(np.float32))\n",
    "matrix = np.linalg.inv(matrix)\n",
    "\n",
    "album = cv2.imread(\"albums/album.png\")\n",
    "result = cv2.warpPerspective(album, matrix, (572, 322))\n",
    "plt.imshow(result)"
   ]
  },
  {
   "cell_type": "code",
   "execution_count": 99,
   "metadata": {},
   "outputs": [
    {
     "name": "stdout",
     "output_type": "stream",
     "text": [
      "[[ 0.5  0.   0. ]\n",
      " [ 0.   0.5  0. ]\n",
      " [-0.  -0.   1. ]]\n"
     ]
    },
    {
     "data": {
      "text/plain": [
       "<matplotlib.image.AxesImage at 0x1a55e389250>"
      ]
     },
     "execution_count": 99,
     "metadata": {},
     "output_type": "execute_result"
    },
    {
     "data": {
      "image/png": "[encoded data removed]",
      "text/plain": [
       "<Figure size 432x288 with 1 Axes>"
      ]
     },
     "metadata": {
      "needs_background": "light"
     },
     "output_type": "display_data"
    }
   ],
   "source": [
    "img = np.zeros([322,572,3],dtype=np.uint8)\n",
    "img.fill(125) # or img[:] = 255\n",
    "album = cv2.imread(\"albums/album.png\")\n",
    "new_frame = img.copy()\n",
    "\n",
    "def image_adding(source,adder_image,x,y):\n",
    "    new_frame = source.copy()\n",
    "    source_x = source.shape[0]\n",
    "    source_y = source.shape[1]\n",
    "    adder_image_x = adder_image.shape[0]\n",
    "    adder_image_y = adder_image.shape[1]\n",
    "    for i in range(0,adder_image_x):\n",
    "        for j in range(0,adder_image_y):\n",
    "            new_frame[(i+x) % source_x,(j+y) % source_y,:] = adder_image[i,j,:]\n",
    "    \n",
    "    return new_frame\n",
    "\n",
    "\n",
    "\n",
    "input_pts = np.float32([[0,0],[0,256],[256,0],[256,256]])\n",
    "output_pts = np.float32((316.7763,129.5932,523.4999)(255.2238,129.5932,523.4999)(316.7763,191.1457,523.4999)(255.2238,191.1457,523.4999))\n",
    "\n",
    "# Compute the perspective transform M\n",
    "M = cv2.getPerspectiveTransform(input_pts,output_pts)\n",
    "print(M)\n",
    "out = cv2.warpPerspective(album,M,(album.shape[0],album.shape[1]),flags=cv2.INTER_LINEAR)\n",
    "\n",
    "plt.imshow(image_adding(img,out,0,0))\n"
   ]
  },
  {
   "cell_type": "code",
   "execution_count": 201,
   "metadata": {},
   "outputs": [],
   "source": [
    "i = 1\n",
    "background = np.zeros([322,572,3])\n",
    "background.fill(255)\n",
    "background_height = background.shape[0]\n",
    "background_width = background.shape[1]\n",
    "\n",
    "ratio = 360/background_height\n",
    "background = cv2.resize(background,(int(background_width*ratio),360))\n",
    "image = cv2.imread(\"cat/cat_\"+str(i)+\".png\")\n",
    "    \n",
    "foreground = np.logical_or(image[:,:,1]<180,image[:,:,0]>150)\n",
    "nonzero_x, nonzero_y = np.nonzero(foreground)\n",
    "nonzero_cat_values = image[nonzero_x,nonzero_y,:]\n",
    "new_frame = background.copy()\n",
    "\n",
    "new_frame[nonzero_x,nonzero_y,:] = nonzero_cat_values\n"
   ]
  }
 ],
 "metadata": {
  "interpreter": {
   "hash": "41388d25b359402e3914bc72d50bf2d95f5da4ca628d8fc9100a2b9d5525202f"
  },
  "kernelspec": {
   "display_name": "Python 3.9.2 64-bit",
   "name": "python3"
  },
  "language_info": {
   "codemirror_mode": {
    "name": "ipython",
    "version": 3
   },
   "file_extension": ".py",
   "mimetype": "text/x-python",
   "name": "python",
   "nbconvert_exporter": "python",
   "pygments_lexer": "ipython3",
   "version": "3.9.2"
  },
  "orig_nbformat": 4
 },
 "nbformat": 4,
 "nbformat_minor": 2
}
